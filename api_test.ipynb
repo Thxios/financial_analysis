{
 "cells": [
  {
   "cell_type": "code",
   "execution_count": 1,
   "metadata": {
    "collapsed": true,
    "ExecuteTime": {
     "end_time": "2025-03-14T14:05:34.310920100Z",
     "start_time": "2025-03-14T14:05:33.677789400Z"
    }
   },
   "outputs": [],
   "source": [
    "import os\n",
    "import logging\n",
    "# logging.basicConfig(\n",
    "#     format='[%(pathname)s:%(lineno)d] %(message)s',\n",
    "#     level=logging.DEBUG\n",
    "# )\n",
    "import time\n",
    "import datetime as dt\n",
    "import tqdm.auto as tqdm\n",
    "import yfinance as yf\n",
    "import pandas as pd\n",
    "import numpy as np\n",
    "import matplotlib.pyplot as plt\n",
    "import seaborn as sns\n",
    "\n",
    "%matplotlib inline\n",
    "sns.set_style('darkgrid')"
   ]
  },
  {
   "cell_type": "code",
   "execution_count": 6,
   "outputs": [
    {
     "data": {
      "text/plain": "('TLT', datetime.date(2015, 1, 1))"
     },
     "execution_count": 6,
     "metadata": {},
     "output_type": "execute_result"
    }
   ],
   "source": [
    "TEST_TICKER = 'TLT'\n",
    "# TEST_TICKER = 'CTAS'\n",
    "# TEST_TICKER = 'BF-B'\n",
    "HIST_START_DATE = dt.date(2015, 1, 1)\n",
    "TEST_TICKER, HIST_START_DATE"
   ],
   "metadata": {
    "collapsed": false,
    "ExecuteTime": {
     "end_time": "2025-03-14T14:06:12.629193800Z",
     "start_time": "2025-03-14T14:06:12.601194100Z"
    }
   }
  },
  {
   "cell_type": "code",
   "execution_count": 23,
   "outputs": [
    {
     "name": "stdout",
     "output_type": "stream",
     "text": [
      "['Open', 'High', 'Low', 'Close', 'Volume', 'Dividends', 'Stock Splits', 'Capital Gains']\n"
     ]
    },
    {
     "data": {
      "text/plain": "                                 Open        High         Low       Close  \\\nDate                                                                        \n2015-01-02 00:00:00-05:00   97.521095   98.579011   97.412987   98.316460   \n2015-01-05 00:00:00-05:00   98.849256  100.100227   98.810650   99.860847   \n2015-01-06 00:00:00-05:00  100.926531  102.308775  100.532713  101.660118   \n2015-01-07 00:00:00-05:00  100.926500  101.907197  100.517235  101.459320   \n2015-01-08 00:00:00-05:00  100.663982  100.671700   99.938112  100.115715   \n...                               ...         ...         ...         ...   \n2025-03-06 00:00:00-05:00   90.480003   90.800003   89.730003   90.400002   \n2025-03-07 00:00:00-05:00   91.139999   91.160004   89.989998   90.110001   \n2025-03-10 00:00:00-04:00   91.080002   91.629997   90.910004   91.050003   \n2025-03-11 00:00:00-04:00   90.970001   91.489998   90.139999   90.400002   \n2025-03-12 00:00:00-04:00   90.000000   90.379997   89.779999   89.860001   \n\n                             Volume  Dividends  Stock Splits  Capital Gains  \nDate                                                                         \n2015-01-02 00:00:00-05:00   9432000        0.0           0.0            0.0  \n2015-01-05 00:00:00-05:00   9789500        0.0           0.0            0.0  \n2015-01-06 00:00:00-05:00  18331300        0.0           0.0            0.0  \n2015-01-07 00:00:00-05:00   9762900        0.0           0.0            0.0  \n2015-01-08 00:00:00-05:00   8055300        0.0           0.0            0.0  \n...                             ...        ...           ...            ...  \n2025-03-06 00:00:00-05:00  42827500        0.0           0.0            0.0  \n2025-03-07 00:00:00-05:00  36903600        0.0           0.0            0.0  \n2025-03-10 00:00:00-04:00  41440800        0.0           0.0            0.0  \n2025-03-11 00:00:00-04:00  40555700        0.0           0.0            0.0  \n2025-03-12 00:00:00-04:00  32734600        0.0           0.0            0.0  \n\n[2563 rows x 8 columns]",
      "text/html": "<div>\n<style scoped>\n    .dataframe tbody tr th:only-of-type {\n        vertical-align: middle;\n    }\n\n    .dataframe tbody tr th {\n        vertical-align: top;\n    }\n\n    .dataframe thead th {\n        text-align: right;\n    }\n</style>\n<table border=\"1\" class=\"dataframe\">\n  <thead>\n    <tr style=\"text-align: right;\">\n      <th></th>\n      <th>Open</th>\n      <th>High</th>\n      <th>Low</th>\n      <th>Close</th>\n      <th>Volume</th>\n      <th>Dividends</th>\n      <th>Stock Splits</th>\n      <th>Capital Gains</th>\n    </tr>\n    <tr>\n      <th>Date</th>\n      <th></th>\n      <th></th>\n      <th></th>\n      <th></th>\n      <th></th>\n      <th></th>\n      <th></th>\n      <th></th>\n    </tr>\n  </thead>\n  <tbody>\n    <tr>\n      <th>2015-01-02 00:00:00-05:00</th>\n      <td>97.521095</td>\n      <td>98.579011</td>\n      <td>97.412987</td>\n      <td>98.316460</td>\n      <td>9432000</td>\n      <td>0.0</td>\n      <td>0.0</td>\n      <td>0.0</td>\n    </tr>\n    <tr>\n      <th>2015-01-05 00:00:00-05:00</th>\n      <td>98.849256</td>\n      <td>100.100227</td>\n      <td>98.810650</td>\n      <td>99.860847</td>\n      <td>9789500</td>\n      <td>0.0</td>\n      <td>0.0</td>\n      <td>0.0</td>\n    </tr>\n    <tr>\n      <th>2015-01-06 00:00:00-05:00</th>\n      <td>100.926531</td>\n      <td>102.308775</td>\n      <td>100.532713</td>\n      <td>101.660118</td>\n      <td>18331300</td>\n      <td>0.0</td>\n      <td>0.0</td>\n      <td>0.0</td>\n    </tr>\n    <tr>\n      <th>2015-01-07 00:00:00-05:00</th>\n      <td>100.926500</td>\n      <td>101.907197</td>\n      <td>100.517235</td>\n      <td>101.459320</td>\n      <td>9762900</td>\n      <td>0.0</td>\n      <td>0.0</td>\n      <td>0.0</td>\n    </tr>\n    <tr>\n      <th>2015-01-08 00:00:00-05:00</th>\n      <td>100.663982</td>\n      <td>100.671700</td>\n      <td>99.938112</td>\n      <td>100.115715</td>\n      <td>8055300</td>\n      <td>0.0</td>\n      <td>0.0</td>\n      <td>0.0</td>\n    </tr>\n    <tr>\n      <th>...</th>\n      <td>...</td>\n      <td>...</td>\n      <td>...</td>\n      <td>...</td>\n      <td>...</td>\n      <td>...</td>\n      <td>...</td>\n      <td>...</td>\n    </tr>\n    <tr>\n      <th>2025-03-06 00:00:00-05:00</th>\n      <td>90.480003</td>\n      <td>90.800003</td>\n      <td>89.730003</td>\n      <td>90.400002</td>\n      <td>42827500</td>\n      <td>0.0</td>\n      <td>0.0</td>\n      <td>0.0</td>\n    </tr>\n    <tr>\n      <th>2025-03-07 00:00:00-05:00</th>\n      <td>91.139999</td>\n      <td>91.160004</td>\n      <td>89.989998</td>\n      <td>90.110001</td>\n      <td>36903600</td>\n      <td>0.0</td>\n      <td>0.0</td>\n      <td>0.0</td>\n    </tr>\n    <tr>\n      <th>2025-03-10 00:00:00-04:00</th>\n      <td>91.080002</td>\n      <td>91.629997</td>\n      <td>90.910004</td>\n      <td>91.050003</td>\n      <td>41440800</td>\n      <td>0.0</td>\n      <td>0.0</td>\n      <td>0.0</td>\n    </tr>\n    <tr>\n      <th>2025-03-11 00:00:00-04:00</th>\n      <td>90.970001</td>\n      <td>91.489998</td>\n      <td>90.139999</td>\n      <td>90.400002</td>\n      <td>40555700</td>\n      <td>0.0</td>\n      <td>0.0</td>\n      <td>0.0</td>\n    </tr>\n    <tr>\n      <th>2025-03-12 00:00:00-04:00</th>\n      <td>90.000000</td>\n      <td>90.379997</td>\n      <td>89.779999</td>\n      <td>89.860001</td>\n      <td>32734600</td>\n      <td>0.0</td>\n      <td>0.0</td>\n      <td>0.0</td>\n    </tr>\n  </tbody>\n</table>\n<p>2563 rows × 8 columns</p>\n</div>"
     },
     "execution_count": 23,
     "metadata": {},
     "output_type": "execute_result"
    }
   ],
   "source": [
    "ticker = yf.Ticker(TEST_TICKER)\n",
    "# ticker = yf.Ticker('SCHD')\n",
    "hist_raw: pd.DataFrame = ticker.history(\n",
    "    interval='1d',\n",
    "    start=HIST_START_DATE,\n",
    "    end=dt.date(2025,3,13)\n",
    ")\n",
    "print(list(hist_raw.columns))\n",
    "hist_raw"
   ],
   "metadata": {
    "collapsed": false,
    "ExecuteTime": {
     "end_time": "2025-03-14T14:29:16.518657200Z",
     "start_time": "2025-03-14T14:29:16.440659200Z"
    }
   }
  },
  {
   "cell_type": "code",
   "execution_count": 24,
   "outputs": [
    {
     "data": {
      "text/plain": "                  Open        High         Low       Close    Volume  \\\nDate                                                                   \n2015-01-02   97.521095   98.579011   97.412987   98.316460   9432000   \n2015-01-05   98.849256  100.100227   98.810650   99.860847   9789500   \n2015-01-06  100.926531  102.308775  100.532713  101.660118  18331300   \n2015-01-07  100.926500  101.907197  100.517235  101.459320   9762900   \n2015-01-08  100.663982  100.671700   99.938112  100.115715   8055300   \n...                ...         ...         ...         ...       ...   \n2025-03-06   90.480003   90.800003   89.730003   90.400002  42827500   \n2025-03-07   91.139999   91.160004   89.989998   90.110001  36903600   \n2025-03-10   91.080002   91.629997   90.910004   91.050003  41440800   \n2025-03-11   90.970001   91.489998   90.139999   90.400002  40555700   \n2025-03-12   90.000000   90.379997   89.779999   89.860001  32734600   \n\n            Dividends  \nDate                   \n2015-01-02        0.0  \n2015-01-05        0.0  \n2015-01-06        0.0  \n2015-01-07        0.0  \n2015-01-08        0.0  \n...               ...  \n2025-03-06        0.0  \n2025-03-07        0.0  \n2025-03-10        0.0  \n2025-03-11        0.0  \n2025-03-12        0.0  \n\n[2563 rows x 6 columns]",
      "text/html": "<div>\n<style scoped>\n    .dataframe tbody tr th:only-of-type {\n        vertical-align: middle;\n    }\n\n    .dataframe tbody tr th {\n        vertical-align: top;\n    }\n\n    .dataframe thead th {\n        text-align: right;\n    }\n</style>\n<table border=\"1\" class=\"dataframe\">\n  <thead>\n    <tr style=\"text-align: right;\">\n      <th></th>\n      <th>Open</th>\n      <th>High</th>\n      <th>Low</th>\n      <th>Close</th>\n      <th>Volume</th>\n      <th>Dividends</th>\n    </tr>\n    <tr>\n      <th>Date</th>\n      <th></th>\n      <th></th>\n      <th></th>\n      <th></th>\n      <th></th>\n      <th></th>\n    </tr>\n  </thead>\n  <tbody>\n    <tr>\n      <th>2015-01-02</th>\n      <td>97.521095</td>\n      <td>98.579011</td>\n      <td>97.412987</td>\n      <td>98.316460</td>\n      <td>9432000</td>\n      <td>0.0</td>\n    </tr>\n    <tr>\n      <th>2015-01-05</th>\n      <td>98.849256</td>\n      <td>100.100227</td>\n      <td>98.810650</td>\n      <td>99.860847</td>\n      <td>9789500</td>\n      <td>0.0</td>\n    </tr>\n    <tr>\n      <th>2015-01-06</th>\n      <td>100.926531</td>\n      <td>102.308775</td>\n      <td>100.532713</td>\n      <td>101.660118</td>\n      <td>18331300</td>\n      <td>0.0</td>\n    </tr>\n    <tr>\n      <th>2015-01-07</th>\n      <td>100.926500</td>\n      <td>101.907197</td>\n      <td>100.517235</td>\n      <td>101.459320</td>\n      <td>9762900</td>\n      <td>0.0</td>\n    </tr>\n    <tr>\n      <th>2015-01-08</th>\n      <td>100.663982</td>\n      <td>100.671700</td>\n      <td>99.938112</td>\n      <td>100.115715</td>\n      <td>8055300</td>\n      <td>0.0</td>\n    </tr>\n    <tr>\n      <th>...</th>\n      <td>...</td>\n      <td>...</td>\n      <td>...</td>\n      <td>...</td>\n      <td>...</td>\n      <td>...</td>\n    </tr>\n    <tr>\n      <th>2025-03-06</th>\n      <td>90.480003</td>\n      <td>90.800003</td>\n      <td>89.730003</td>\n      <td>90.400002</td>\n      <td>42827500</td>\n      <td>0.0</td>\n    </tr>\n    <tr>\n      <th>2025-03-07</th>\n      <td>91.139999</td>\n      <td>91.160004</td>\n      <td>89.989998</td>\n      <td>90.110001</td>\n      <td>36903600</td>\n      <td>0.0</td>\n    </tr>\n    <tr>\n      <th>2025-03-10</th>\n      <td>91.080002</td>\n      <td>91.629997</td>\n      <td>90.910004</td>\n      <td>91.050003</td>\n      <td>41440800</td>\n      <td>0.0</td>\n    </tr>\n    <tr>\n      <th>2025-03-11</th>\n      <td>90.970001</td>\n      <td>91.489998</td>\n      <td>90.139999</td>\n      <td>90.400002</td>\n      <td>40555700</td>\n      <td>0.0</td>\n    </tr>\n    <tr>\n      <th>2025-03-12</th>\n      <td>90.000000</td>\n      <td>90.379997</td>\n      <td>89.779999</td>\n      <td>89.860001</td>\n      <td>32734600</td>\n      <td>0.0</td>\n    </tr>\n  </tbody>\n</table>\n<p>2563 rows × 6 columns</p>\n</div>"
     },
     "execution_count": 24,
     "metadata": {},
     "output_type": "execute_result"
    }
   ],
   "source": [
    "hist_raw.index = hist_raw.index.date\n",
    "hist_raw.index.name = 'Date'\n",
    "hist_raw.drop(['Stock Splits', 'Capital Gains'], axis=1, inplace=True)\n",
    "hist_raw"
   ],
   "metadata": {
    "collapsed": false,
    "ExecuteTime": {
     "end_time": "2025-03-14T14:29:17.268819300Z",
     "start_time": "2025-03-14T14:29:17.241826400Z"
    }
   }
  },
  {
   "cell_type": "code",
   "execution_count": 28,
   "outputs": [
    {
     "data": {
      "text/plain": "                  Open        High         Low       Close    Volume  \\\nDate                                                                   \n2015-01-26  104.123391  104.393666  103.513359  103.752739   5966500   \n2015-01-27  104.810706  105.119593  103.590628  103.914963   8079600   \n2015-01-28  104.053960  106.108015  104.015348  105.613808  12230300   \n2015-01-29  105.111843  105.536555  104.602200  104.918793   8881400   \n2015-01-30  106.339706  106.949739  105.930429  106.779854  14871200   \n...                ...         ...         ...         ...       ...   \n2025-03-06   90.480003   90.800003   89.730003   90.400002  42827500   \n2025-03-07   91.139999   91.160004   89.989998   90.110001  36903600   \n2025-03-10   91.080002   91.629997   90.910004   91.050003  41440800   \n2025-03-11   90.970001   91.489998   90.139999   90.400002  40555700   \n2025-03-12   90.000000   90.379997   89.779999   89.860001  32734600   \n\n            Dividends  \nDate                   \n2015-01-26        0.0  \n2015-01-27        0.0  \n2015-01-28        0.0  \n2015-01-29        0.0  \n2015-01-30        0.0  \n...               ...  \n2025-03-06        0.0  \n2025-03-07        0.0  \n2025-03-10        0.0  \n2025-03-11        0.0  \n2025-03-12        0.0  \n\n[2548 rows x 6 columns]",
      "text/html": "<div>\n<style scoped>\n    .dataframe tbody tr th:only-of-type {\n        vertical-align: middle;\n    }\n\n    .dataframe tbody tr th {\n        vertical-align: top;\n    }\n\n    .dataframe thead th {\n        text-align: right;\n    }\n</style>\n<table border=\"1\" class=\"dataframe\">\n  <thead>\n    <tr style=\"text-align: right;\">\n      <th></th>\n      <th>Open</th>\n      <th>High</th>\n      <th>Low</th>\n      <th>Close</th>\n      <th>Volume</th>\n      <th>Dividends</th>\n    </tr>\n    <tr>\n      <th>Date</th>\n      <th></th>\n      <th></th>\n      <th></th>\n      <th></th>\n      <th></th>\n      <th></th>\n    </tr>\n  </thead>\n  <tbody>\n    <tr>\n      <th>2015-01-26</th>\n      <td>104.123391</td>\n      <td>104.393666</td>\n      <td>103.513359</td>\n      <td>103.752739</td>\n      <td>5966500</td>\n      <td>0.0</td>\n    </tr>\n    <tr>\n      <th>2015-01-27</th>\n      <td>104.810706</td>\n      <td>105.119593</td>\n      <td>103.590628</td>\n      <td>103.914963</td>\n      <td>8079600</td>\n      <td>0.0</td>\n    </tr>\n    <tr>\n      <th>2015-01-28</th>\n      <td>104.053960</td>\n      <td>106.108015</td>\n      <td>104.015348</td>\n      <td>105.613808</td>\n      <td>12230300</td>\n      <td>0.0</td>\n    </tr>\n    <tr>\n      <th>2015-01-29</th>\n      <td>105.111843</td>\n      <td>105.536555</td>\n      <td>104.602200</td>\n      <td>104.918793</td>\n      <td>8881400</td>\n      <td>0.0</td>\n    </tr>\n    <tr>\n      <th>2015-01-30</th>\n      <td>106.339706</td>\n      <td>106.949739</td>\n      <td>105.930429</td>\n      <td>106.779854</td>\n      <td>14871200</td>\n      <td>0.0</td>\n    </tr>\n    <tr>\n      <th>...</th>\n      <td>...</td>\n      <td>...</td>\n      <td>...</td>\n      <td>...</td>\n      <td>...</td>\n      <td>...</td>\n    </tr>\n    <tr>\n      <th>2025-03-06</th>\n      <td>90.480003</td>\n      <td>90.800003</td>\n      <td>89.730003</td>\n      <td>90.400002</td>\n      <td>42827500</td>\n      <td>0.0</td>\n    </tr>\n    <tr>\n      <th>2025-03-07</th>\n      <td>91.139999</td>\n      <td>91.160004</td>\n      <td>89.989998</td>\n      <td>90.110001</td>\n      <td>36903600</td>\n      <td>0.0</td>\n    </tr>\n    <tr>\n      <th>2025-03-10</th>\n      <td>91.080002</td>\n      <td>91.629997</td>\n      <td>90.910004</td>\n      <td>91.050003</td>\n      <td>41440800</td>\n      <td>0.0</td>\n    </tr>\n    <tr>\n      <th>2025-03-11</th>\n      <td>90.970001</td>\n      <td>91.489998</td>\n      <td>90.139999</td>\n      <td>90.400002</td>\n      <td>40555700</td>\n      <td>0.0</td>\n    </tr>\n    <tr>\n      <th>2025-03-12</th>\n      <td>90.000000</td>\n      <td>90.379997</td>\n      <td>89.779999</td>\n      <td>89.860001</td>\n      <td>32734600</td>\n      <td>0.0</td>\n    </tr>\n  </tbody>\n</table>\n<p>2548 rows × 6 columns</p>\n</div>"
     },
     "execution_count": 28,
     "metadata": {},
     "output_type": "execute_result"
    }
   ],
   "source": [
    "hist_raw.iloc[15:]"
   ],
   "metadata": {
    "collapsed": false,
    "ExecuteTime": {
     "end_time": "2025-03-14T14:30:18.212842300Z",
     "start_time": "2025-03-14T14:30:18.181689800Z"
    }
   }
  },
  {
   "cell_type": "code",
   "execution_count": 9,
   "outputs": [
    {
     "data": {
      "text/plain": "Dividends\n0.000    2441\n0.267       5\n0.275       5\n0.255       5\n0.263       4\n         ... \n0.313       1\n0.316       1\n0.325       1\n0.351       1\n0.290       1\nName: count, Length: 78, dtype: int64"
     },
     "execution_count": 9,
     "metadata": {},
     "output_type": "execute_result"
    }
   ],
   "source": [
    "hist_raw['Dividends'].value_counts()"
   ],
   "metadata": {
    "collapsed": false,
    "ExecuteTime": {
     "end_time": "2025-03-14T14:06:15.622185700Z",
     "start_time": "2025-03-14T14:06:15.606187600Z"
    }
   }
  },
  {
   "cell_type": "code",
   "execution_count": 31,
   "outputs": [],
   "source": [
    "def adjust_dividend_reinvest(df: pd.DataFrame, price_col='Close', div_col='Dividends'):\n",
    "    cur_share = 1\n",
    "    adj_ = []\n",
    "    shares_ = []\n",
    "    for dividend, price in zip(df[div_col], df[price_col]):\n",
    "        if dividend > 0:\n",
    "            cur_share += (cur_share * dividend) / price\n",
    "\n",
    "        adj_.append(cur_share * price)\n",
    "        shares_.append(cur_share)\n",
    "\n",
    "    return adj_, shares_\n"
   ],
   "metadata": {
    "collapsed": false,
    "ExecuteTime": {
     "end_time": "2025-03-14T14:41:25.115025600Z",
     "start_time": "2025-03-14T14:41:25.098026700Z"
    }
   }
  },
  {
   "cell_type": "code",
   "execution_count": 32,
   "outputs": [
    {
     "data": {
      "text/plain": "2563"
     },
     "execution_count": 32,
     "metadata": {},
     "output_type": "execute_result"
    }
   ],
   "source": [
    "adj, shares = adjust_dividend_reinvest(hist_raw)\n",
    "len(adj)"
   ],
   "metadata": {
    "collapsed": false,
    "ExecuteTime": {
     "end_time": "2025-03-14T14:41:25.558812800Z",
     "start_time": "2025-03-14T14:41:25.544815200Z"
    }
   }
  },
  {
   "cell_type": "code",
   "execution_count": 34,
   "outputs": [
    {
     "data": {
      "text/plain": "                  Open        High         Low       Close    Volume  \\\nDate                                                                   \n2015-01-02   97.521095   98.579011   97.412987   98.316460   9432000   \n2015-01-05   98.849256  100.100227   98.810650   99.860847   9789500   \n2015-01-06  100.926531  102.308775  100.532713  101.660118  18331300   \n2015-01-07  100.926500  101.907197  100.517235  101.459320   9762900   \n2015-01-08  100.663982  100.671700   99.938112  100.115715   8055300   \n...                ...         ...         ...         ...       ...   \n2025-03-06   90.480003   90.800003   89.730003   90.400002  42827500   \n2025-03-07   91.139999   91.160004   89.989998   90.110001  36903600   \n2025-03-10   91.080002   91.629997   90.910004   91.050003  41440800   \n2025-03-11   90.970001   91.489998   90.139999   90.400002  40555700   \n2025-03-12   90.000000   90.379997   89.779999   89.860001  32734600   \n\n            Dividends    AdjClose    Shares  \nDate                                         \n2015-01-02        0.0   98.316460  1.000000  \n2015-01-05        0.0   99.860847  1.000000  \n2015-01-06        0.0  101.660118  1.000000  \n2015-01-07        0.0  101.459320  1.000000  \n2015-01-08        0.0  100.115715  1.000000  \n...               ...         ...       ...  \n2025-03-06        0.0  121.361228  1.342491  \n2025-03-07        0.0  120.971905  1.342491  \n2025-03-10        0.0  122.233850  1.342491  \n2025-03-11        0.0  121.361228  1.342491  \n2025-03-12        0.0  120.636282  1.342491  \n\n[2563 rows x 8 columns]",
      "text/html": "<div>\n<style scoped>\n    .dataframe tbody tr th:only-of-type {\n        vertical-align: middle;\n    }\n\n    .dataframe tbody tr th {\n        vertical-align: top;\n    }\n\n    .dataframe thead th {\n        text-align: right;\n    }\n</style>\n<table border=\"1\" class=\"dataframe\">\n  <thead>\n    <tr style=\"text-align: right;\">\n      <th></th>\n      <th>Open</th>\n      <th>High</th>\n      <th>Low</th>\n      <th>Close</th>\n      <th>Volume</th>\n      <th>Dividends</th>\n      <th>AdjClose</th>\n      <th>Shares</th>\n    </tr>\n    <tr>\n      <th>Date</th>\n      <th></th>\n      <th></th>\n      <th></th>\n      <th></th>\n      <th></th>\n      <th></th>\n      <th></th>\n      <th></th>\n    </tr>\n  </thead>\n  <tbody>\n    <tr>\n      <th>2015-01-02</th>\n      <td>97.521095</td>\n      <td>98.579011</td>\n      <td>97.412987</td>\n      <td>98.316460</td>\n      <td>9432000</td>\n      <td>0.0</td>\n      <td>98.316460</td>\n      <td>1.000000</td>\n    </tr>\n    <tr>\n      <th>2015-01-05</th>\n      <td>98.849256</td>\n      <td>100.100227</td>\n      <td>98.810650</td>\n      <td>99.860847</td>\n      <td>9789500</td>\n      <td>0.0</td>\n      <td>99.860847</td>\n      <td>1.000000</td>\n    </tr>\n    <tr>\n      <th>2015-01-06</th>\n      <td>100.926531</td>\n      <td>102.308775</td>\n      <td>100.532713</td>\n      <td>101.660118</td>\n      <td>18331300</td>\n      <td>0.0</td>\n      <td>101.660118</td>\n      <td>1.000000</td>\n    </tr>\n    <tr>\n      <th>2015-01-07</th>\n      <td>100.926500</td>\n      <td>101.907197</td>\n      <td>100.517235</td>\n      <td>101.459320</td>\n      <td>9762900</td>\n      <td>0.0</td>\n      <td>101.459320</td>\n      <td>1.000000</td>\n    </tr>\n    <tr>\n      <th>2015-01-08</th>\n      <td>100.663982</td>\n      <td>100.671700</td>\n      <td>99.938112</td>\n      <td>100.115715</td>\n      <td>8055300</td>\n      <td>0.0</td>\n      <td>100.115715</td>\n      <td>1.000000</td>\n    </tr>\n    <tr>\n      <th>...</th>\n      <td>...</td>\n      <td>...</td>\n      <td>...</td>\n      <td>...</td>\n      <td>...</td>\n      <td>...</td>\n      <td>...</td>\n      <td>...</td>\n    </tr>\n    <tr>\n      <th>2025-03-06</th>\n      <td>90.480003</td>\n      <td>90.800003</td>\n      <td>89.730003</td>\n      <td>90.400002</td>\n      <td>42827500</td>\n      <td>0.0</td>\n      <td>121.361228</td>\n      <td>1.342491</td>\n    </tr>\n    <tr>\n      <th>2025-03-07</th>\n      <td>91.139999</td>\n      <td>91.160004</td>\n      <td>89.989998</td>\n      <td>90.110001</td>\n      <td>36903600</td>\n      <td>0.0</td>\n      <td>120.971905</td>\n      <td>1.342491</td>\n    </tr>\n    <tr>\n      <th>2025-03-10</th>\n      <td>91.080002</td>\n      <td>91.629997</td>\n      <td>90.910004</td>\n      <td>91.050003</td>\n      <td>41440800</td>\n      <td>0.0</td>\n      <td>122.233850</td>\n      <td>1.342491</td>\n    </tr>\n    <tr>\n      <th>2025-03-11</th>\n      <td>90.970001</td>\n      <td>91.489998</td>\n      <td>90.139999</td>\n      <td>90.400002</td>\n      <td>40555700</td>\n      <td>0.0</td>\n      <td>121.361228</td>\n      <td>1.342491</td>\n    </tr>\n    <tr>\n      <th>2025-03-12</th>\n      <td>90.000000</td>\n      <td>90.379997</td>\n      <td>89.779999</td>\n      <td>89.860001</td>\n      <td>32734600</td>\n      <td>0.0</td>\n      <td>120.636282</td>\n      <td>1.342491</td>\n    </tr>\n  </tbody>\n</table>\n<p>2563 rows × 8 columns</p>\n</div>"
     },
     "execution_count": 34,
     "metadata": {},
     "output_type": "execute_result"
    }
   ],
   "source": [
    "hist_raw['AdjClose'] = adj\n",
    "hist_raw['Shares'] = shares\n",
    "hist_raw"
   ],
   "metadata": {
    "collapsed": false,
    "ExecuteTime": {
     "end_time": "2025-03-14T14:41:29.480521Z",
     "start_time": "2025-03-14T14:41:29.448943700Z"
    }
   }
  },
  {
   "cell_type": "code",
   "execution_count": 27,
   "outputs": [],
   "source": [
    "# ctas = yf.Ticker('CTAS')\n",
    "# ctas.history(\n",
    "#     interval='1d',\n",
    "#     start=HIST_START_DATE\n",
    "# )"
   ],
   "metadata": {
    "collapsed": false,
    "ExecuteTime": {
     "end_time": "2025-03-13T07:21:40.709959Z",
     "start_time": "2025-03-13T07:21:40.693962600Z"
    }
   }
  },
  {
   "cell_type": "code",
   "execution_count": 42,
   "outputs": [
    {
     "data": {
      "text/plain": "            Date       Open       High        Low      Close    Volume  \\\n0     2015-01-02  11.644329  11.682239  11.556843  11.609335   1418700   \n1     2015-01-05  11.565595  11.577259  11.434366  11.446031  12067500   \n2     2015-01-06  11.463526  11.524766  11.326466  11.376040   1611300   \n3     2015-01-07  11.478108  11.521851  11.431449  11.510186   3470700   \n4     2015-01-08  11.612252  11.728900  11.591839  11.723067   3114600   \n...          ...        ...        ...        ...        ...       ...   \n2558  2025-03-06  27.950001  28.100000  27.790001  28.070000  14871800   \n2559  2025-03-07  28.030001  28.510000  28.010000  28.459999  16558700   \n2560  2025-03-10  28.320000  28.850000  28.190001  28.379999  23520500   \n2561  2025-03-11  28.299999  28.309999  27.660000  27.740000  24564600   \n2562  2025-03-12  27.650000  27.670000  27.309999  27.440001  26621800   \n\n      Capital Gains       hlc3  log_hlc3  \n0               0.0  11.645301  2.454903  \n1               0.0  11.529628  2.444920  \n2               0.0  11.454778  2.438407  \n3               0.0  11.503382  2.442641  \n4               0.0  11.688073  2.458569  \n...             ...        ...       ...  \n2558            0.0  28.040000  3.333632  \n2559            0.0  28.333333  3.344039  \n2560            0.0  28.516666  3.350489  \n2561            0.0  28.116666  3.336363  \n2562            0.0  27.586667  3.317333  \n\n[2563 rows x 9 columns]",
      "text/html": "<div>\n<style scoped>\n    .dataframe tbody tr th:only-of-type {\n        vertical-align: middle;\n    }\n\n    .dataframe tbody tr th {\n        vertical-align: top;\n    }\n\n    .dataframe thead th {\n        text-align: right;\n    }\n</style>\n<table border=\"1\" class=\"dataframe\">\n  <thead>\n    <tr style=\"text-align: right;\">\n      <th></th>\n      <th>Date</th>\n      <th>Open</th>\n      <th>High</th>\n      <th>Low</th>\n      <th>Close</th>\n      <th>Volume</th>\n      <th>Capital Gains</th>\n      <th>hlc3</th>\n      <th>log_hlc3</th>\n    </tr>\n  </thead>\n  <tbody>\n    <tr>\n      <th>0</th>\n      <td>2015-01-02</td>\n      <td>11.644329</td>\n      <td>11.682239</td>\n      <td>11.556843</td>\n      <td>11.609335</td>\n      <td>1418700</td>\n      <td>0.0</td>\n      <td>11.645301</td>\n      <td>2.454903</td>\n    </tr>\n    <tr>\n      <th>1</th>\n      <td>2015-01-05</td>\n      <td>11.565595</td>\n      <td>11.577259</td>\n      <td>11.434366</td>\n      <td>11.446031</td>\n      <td>12067500</td>\n      <td>0.0</td>\n      <td>11.529628</td>\n      <td>2.444920</td>\n    </tr>\n    <tr>\n      <th>2</th>\n      <td>2015-01-06</td>\n      <td>11.463526</td>\n      <td>11.524766</td>\n      <td>11.326466</td>\n      <td>11.376040</td>\n      <td>1611300</td>\n      <td>0.0</td>\n      <td>11.454778</td>\n      <td>2.438407</td>\n    </tr>\n    <tr>\n      <th>3</th>\n      <td>2015-01-07</td>\n      <td>11.478108</td>\n      <td>11.521851</td>\n      <td>11.431449</td>\n      <td>11.510186</td>\n      <td>3470700</td>\n      <td>0.0</td>\n      <td>11.503382</td>\n      <td>2.442641</td>\n    </tr>\n    <tr>\n      <th>4</th>\n      <td>2015-01-08</td>\n      <td>11.612252</td>\n      <td>11.728900</td>\n      <td>11.591839</td>\n      <td>11.723067</td>\n      <td>3114600</td>\n      <td>0.0</td>\n      <td>11.688073</td>\n      <td>2.458569</td>\n    </tr>\n    <tr>\n      <th>...</th>\n      <td>...</td>\n      <td>...</td>\n      <td>...</td>\n      <td>...</td>\n      <td>...</td>\n      <td>...</td>\n      <td>...</td>\n      <td>...</td>\n      <td>...</td>\n    </tr>\n    <tr>\n      <th>2558</th>\n      <td>2025-03-06</td>\n      <td>27.950001</td>\n      <td>28.100000</td>\n      <td>27.790001</td>\n      <td>28.070000</td>\n      <td>14871800</td>\n      <td>0.0</td>\n      <td>28.040000</td>\n      <td>3.333632</td>\n    </tr>\n    <tr>\n      <th>2559</th>\n      <td>2025-03-07</td>\n      <td>28.030001</td>\n      <td>28.510000</td>\n      <td>28.010000</td>\n      <td>28.459999</td>\n      <td>16558700</td>\n      <td>0.0</td>\n      <td>28.333333</td>\n      <td>3.344039</td>\n    </tr>\n    <tr>\n      <th>2560</th>\n      <td>2025-03-10</td>\n      <td>28.320000</td>\n      <td>28.850000</td>\n      <td>28.190001</td>\n      <td>28.379999</td>\n      <td>23520500</td>\n      <td>0.0</td>\n      <td>28.516666</td>\n      <td>3.350489</td>\n    </tr>\n    <tr>\n      <th>2561</th>\n      <td>2025-03-11</td>\n      <td>28.299999</td>\n      <td>28.309999</td>\n      <td>27.660000</td>\n      <td>27.740000</td>\n      <td>24564600</td>\n      <td>0.0</td>\n      <td>28.116666</td>\n      <td>3.336363</td>\n    </tr>\n    <tr>\n      <th>2562</th>\n      <td>2025-03-12</td>\n      <td>27.650000</td>\n      <td>27.670000</td>\n      <td>27.309999</td>\n      <td>27.440001</td>\n      <td>26621800</td>\n      <td>0.0</td>\n      <td>27.586667</td>\n      <td>3.317333</td>\n    </tr>\n  </tbody>\n</table>\n<p>2563 rows × 9 columns</p>\n</div>"
     },
     "execution_count": 42,
     "metadata": {},
     "output_type": "execute_result"
    }
   ],
   "source": [
    "hist = hist_raw.copy(deep=True)\n",
    "hist.drop(['Dividends', 'Stock Splits'], axis=1, inplace=True)\n",
    "hist.reset_index(inplace=True)\n",
    "hist['Date'] = pd.to_datetime(hist['Date']).dt.date\n",
    "hist['hlc3'] = (hist['Open'] + hist['High'] + hist['Close']) / 3\n",
    "hist['log_hlc3'] = np.log(hist['hlc3'])\n",
    "hist"
   ],
   "metadata": {
    "collapsed": false,
    "ExecuteTime": {
     "end_time": "2025-03-13T07:34:18.095344900Z",
     "start_time": "2025-03-13T07:34:18.059809Z"
    }
   }
  },
  {
   "cell_type": "code",
   "execution_count": 29,
   "outputs": [
    {
     "data": {
      "text/plain": "            Date        Open        High         Low       Close     Volume  \\\n0     2015-01-02   24.778677   24.789800   23.879980   24.320431  212818400   \n1     2015-01-05   24.089084   24.169166   23.448429   23.635286  257142000   \n2     2015-01-06   23.699796   23.897776   23.274916   23.637510  263188400   \n3     2015-01-07   23.846619   24.069069   23.735394   23.968967  160423600   \n4     2015-01-08   24.298189   24.947741   24.180289   24.889904  237458000   \n...          ...         ...         ...         ...         ...        ...   \n2558  2025-03-06  234.440002  237.860001  233.160004  235.330002   45170400   \n2559  2025-03-07  235.110001  241.369995  234.759995  239.070007   46273600   \n2560  2025-03-10  235.539993  236.160004  224.220001  227.479996   72071200   \n2561  2025-03-11  223.809998  225.839996  217.449997  220.839996   76137400   \n2562  2025-03-12  220.139999  221.750000  214.910004  216.979996   62466400   \n\n            hlc3  log_hlc3  \n0      24.629636  3.203950  \n1      23.964512  3.176574  \n2      23.745027  3.167373  \n3      23.961552  3.176451  \n4      24.711945  3.207287  \n...          ...       ...  \n2558  235.876668  5.463309  \n2559  238.516668  5.474439  \n2560  233.059998  5.451296  \n2561  223.496663  5.409396  \n2562  219.623332  5.391914  \n\n[2563 rows x 8 columns]",
      "text/html": "<div>\n<style scoped>\n    .dataframe tbody tr th:only-of-type {\n        vertical-align: middle;\n    }\n\n    .dataframe tbody tr th {\n        vertical-align: top;\n    }\n\n    .dataframe thead th {\n        text-align: right;\n    }\n</style>\n<table border=\"1\" class=\"dataframe\">\n  <thead>\n    <tr style=\"text-align: right;\">\n      <th></th>\n      <th>Date</th>\n      <th>Open</th>\n      <th>High</th>\n      <th>Low</th>\n      <th>Close</th>\n      <th>Volume</th>\n      <th>hlc3</th>\n      <th>log_hlc3</th>\n    </tr>\n  </thead>\n  <tbody>\n    <tr>\n      <th>0</th>\n      <td>2015-01-02</td>\n      <td>24.778677</td>\n      <td>24.789800</td>\n      <td>23.879980</td>\n      <td>24.320431</td>\n      <td>212818400</td>\n      <td>24.629636</td>\n      <td>3.203950</td>\n    </tr>\n    <tr>\n      <th>1</th>\n      <td>2015-01-05</td>\n      <td>24.089084</td>\n      <td>24.169166</td>\n      <td>23.448429</td>\n      <td>23.635286</td>\n      <td>257142000</td>\n      <td>23.964512</td>\n      <td>3.176574</td>\n    </tr>\n    <tr>\n      <th>2</th>\n      <td>2015-01-06</td>\n      <td>23.699796</td>\n      <td>23.897776</td>\n      <td>23.274916</td>\n      <td>23.637510</td>\n      <td>263188400</td>\n      <td>23.745027</td>\n      <td>3.167373</td>\n    </tr>\n    <tr>\n      <th>3</th>\n      <td>2015-01-07</td>\n      <td>23.846619</td>\n      <td>24.069069</td>\n      <td>23.735394</td>\n      <td>23.968967</td>\n      <td>160423600</td>\n      <td>23.961552</td>\n      <td>3.176451</td>\n    </tr>\n    <tr>\n      <th>4</th>\n      <td>2015-01-08</td>\n      <td>24.298189</td>\n      <td>24.947741</td>\n      <td>24.180289</td>\n      <td>24.889904</td>\n      <td>237458000</td>\n      <td>24.711945</td>\n      <td>3.207287</td>\n    </tr>\n    <tr>\n      <th>...</th>\n      <td>...</td>\n      <td>...</td>\n      <td>...</td>\n      <td>...</td>\n      <td>...</td>\n      <td>...</td>\n      <td>...</td>\n      <td>...</td>\n    </tr>\n    <tr>\n      <th>2558</th>\n      <td>2025-03-06</td>\n      <td>234.440002</td>\n      <td>237.860001</td>\n      <td>233.160004</td>\n      <td>235.330002</td>\n      <td>45170400</td>\n      <td>235.876668</td>\n      <td>5.463309</td>\n    </tr>\n    <tr>\n      <th>2559</th>\n      <td>2025-03-07</td>\n      <td>235.110001</td>\n      <td>241.369995</td>\n      <td>234.759995</td>\n      <td>239.070007</td>\n      <td>46273600</td>\n      <td>238.516668</td>\n      <td>5.474439</td>\n    </tr>\n    <tr>\n      <th>2560</th>\n      <td>2025-03-10</td>\n      <td>235.539993</td>\n      <td>236.160004</td>\n      <td>224.220001</td>\n      <td>227.479996</td>\n      <td>72071200</td>\n      <td>233.059998</td>\n      <td>5.451296</td>\n    </tr>\n    <tr>\n      <th>2561</th>\n      <td>2025-03-11</td>\n      <td>223.809998</td>\n      <td>225.839996</td>\n      <td>217.449997</td>\n      <td>220.839996</td>\n      <td>76137400</td>\n      <td>223.496663</td>\n      <td>5.409396</td>\n    </tr>\n    <tr>\n      <th>2562</th>\n      <td>2025-03-12</td>\n      <td>220.139999</td>\n      <td>221.750000</td>\n      <td>214.910004</td>\n      <td>216.979996</td>\n      <td>62466400</td>\n      <td>219.623332</td>\n      <td>5.391914</td>\n    </tr>\n  </tbody>\n</table>\n<p>2563 rows × 8 columns</p>\n</div>"
     },
     "execution_count": 29,
     "metadata": {},
     "output_type": "execute_result"
    }
   ],
   "source": [
    "hist_a = hist.copy()\n",
    "hist_a"
   ],
   "metadata": {
    "collapsed": false,
    "ExecuteTime": {
     "end_time": "2025-03-13T07:21:42.258643700Z",
     "start_time": "2025-03-13T07:21:42.225034100Z"
    }
   }
  },
  {
   "cell_type": "code",
   "execution_count": 24,
   "outputs": [
    {
     "data": {
      "text/plain": "            Date        Open        High         Low       Close     Volume  \\\n0     2015-01-02    0.483099    0.486699    0.475420    0.483099  113680000   \n1     2015-01-05    0.483099    0.484539    0.472780    0.474939  197952000   \n2     2015-01-06    0.475659    0.476139    0.460060    0.460540  197764000   \n3     2015-01-07    0.463900    0.467980    0.457900    0.459340  321808000   \n4     2015-01-08    0.464620    0.479499    0.464380    0.476619  283780000   \n...          ...         ...         ...         ...         ...        ...   \n2558  2025-03-06  113.519557  115.339389  110.209863  110.559830  321181900   \n2559  2025-03-07  111.239772  113.469570  107.550108  112.679642  341755500   \n2560  2025-03-10  109.889891  111.839709  105.450297  106.970161  366487400   \n2561  2025-03-11  106.980159  112.229676  104.760361  108.750000  354865700   \n2562  2025-03-12  114.120003  116.760002  112.879997  115.739998  322345000   \n\n            hlc3  log_hlc3  \n0       0.484299 -0.725052  \n1       0.480859 -0.732181  \n2       0.470780 -0.753365  \n3       0.463740 -0.768431  \n4       0.473580 -0.747435  \n...          ...       ...  \n2558  113.139592  4.728622  \n2559  112.462994  4.722624  \n2560  109.566587  4.696532  \n2561  109.319945  4.694279  \n2562  115.540001  4.749617  \n\n[2563 rows x 8 columns]",
      "text/html": "<div>\n<style scoped>\n    .dataframe tbody tr th:only-of-type {\n        vertical-align: middle;\n    }\n\n    .dataframe tbody tr th {\n        vertical-align: top;\n    }\n\n    .dataframe thead th {\n        text-align: right;\n    }\n</style>\n<table border=\"1\" class=\"dataframe\">\n  <thead>\n    <tr style=\"text-align: right;\">\n      <th></th>\n      <th>Date</th>\n      <th>Open</th>\n      <th>High</th>\n      <th>Low</th>\n      <th>Close</th>\n      <th>Volume</th>\n      <th>hlc3</th>\n      <th>log_hlc3</th>\n    </tr>\n  </thead>\n  <tbody>\n    <tr>\n      <th>0</th>\n      <td>2015-01-02</td>\n      <td>0.483099</td>\n      <td>0.486699</td>\n      <td>0.475420</td>\n      <td>0.483099</td>\n      <td>113680000</td>\n      <td>0.484299</td>\n      <td>-0.725052</td>\n    </tr>\n    <tr>\n      <th>1</th>\n      <td>2015-01-05</td>\n      <td>0.483099</td>\n      <td>0.484539</td>\n      <td>0.472780</td>\n      <td>0.474939</td>\n      <td>197952000</td>\n      <td>0.480859</td>\n      <td>-0.732181</td>\n    </tr>\n    <tr>\n      <th>2</th>\n      <td>2015-01-06</td>\n      <td>0.475659</td>\n      <td>0.476139</td>\n      <td>0.460060</td>\n      <td>0.460540</td>\n      <td>197764000</td>\n      <td>0.470780</td>\n      <td>-0.753365</td>\n    </tr>\n    <tr>\n      <th>3</th>\n      <td>2015-01-07</td>\n      <td>0.463900</td>\n      <td>0.467980</td>\n      <td>0.457900</td>\n      <td>0.459340</td>\n      <td>321808000</td>\n      <td>0.463740</td>\n      <td>-0.768431</td>\n    </tr>\n    <tr>\n      <th>4</th>\n      <td>2015-01-08</td>\n      <td>0.464620</td>\n      <td>0.479499</td>\n      <td>0.464380</td>\n      <td>0.476619</td>\n      <td>283780000</td>\n      <td>0.473580</td>\n      <td>-0.747435</td>\n    </tr>\n    <tr>\n      <th>...</th>\n      <td>...</td>\n      <td>...</td>\n      <td>...</td>\n      <td>...</td>\n      <td>...</td>\n      <td>...</td>\n      <td>...</td>\n      <td>...</td>\n    </tr>\n    <tr>\n      <th>2558</th>\n      <td>2025-03-06</td>\n      <td>113.519557</td>\n      <td>115.339389</td>\n      <td>110.209863</td>\n      <td>110.559830</td>\n      <td>321181900</td>\n      <td>113.139592</td>\n      <td>4.728622</td>\n    </tr>\n    <tr>\n      <th>2559</th>\n      <td>2025-03-07</td>\n      <td>111.239772</td>\n      <td>113.469570</td>\n      <td>107.550108</td>\n      <td>112.679642</td>\n      <td>341755500</td>\n      <td>112.462994</td>\n      <td>4.722624</td>\n    </tr>\n    <tr>\n      <th>2560</th>\n      <td>2025-03-10</td>\n      <td>109.889891</td>\n      <td>111.839709</td>\n      <td>105.450297</td>\n      <td>106.970161</td>\n      <td>366487400</td>\n      <td>109.566587</td>\n      <td>4.696532</td>\n    </tr>\n    <tr>\n      <th>2561</th>\n      <td>2025-03-11</td>\n      <td>106.980159</td>\n      <td>112.229676</td>\n      <td>104.760361</td>\n      <td>108.750000</td>\n      <td>354865700</td>\n      <td>109.319945</td>\n      <td>4.694279</td>\n    </tr>\n    <tr>\n      <th>2562</th>\n      <td>2025-03-12</td>\n      <td>114.120003</td>\n      <td>116.760002</td>\n      <td>112.879997</td>\n      <td>115.739998</td>\n      <td>322345000</td>\n      <td>115.540001</td>\n      <td>4.749617</td>\n    </tr>\n  </tbody>\n</table>\n<p>2563 rows × 8 columns</p>\n</div>"
     },
     "execution_count": 24,
     "metadata": {},
     "output_type": "execute_result"
    }
   ],
   "source": [
    "hist_b = hist.copy()\n",
    "hist_b"
   ],
   "metadata": {
    "collapsed": false,
    "ExecuteTime": {
     "end_time": "2025-03-13T07:21:32.691883400Z",
     "start_time": "2025-03-13T07:21:32.668083200Z"
    }
   }
  },
  {
   "cell_type": "code",
   "execution_count": 37,
   "outputs": [
    {
     "data": {
      "text/plain": "            Date   AAPL_hlc3   NVDA_hlc3\n0     2015-01-02   24.629636    0.484299\n1     2015-01-05   23.964512    0.480859\n2     2015-01-06   23.745027    0.470780\n3     2015-01-07   23.961552    0.463740\n4     2015-01-08   24.711945    0.473580\n...          ...         ...         ...\n2558  2025-03-06  235.876668  113.139592\n2559  2025-03-07  238.516668  112.462994\n2560  2025-03-10  233.059998  109.566587\n2561  2025-03-11  223.496663  109.319945\n2562  2025-03-12  219.623332  115.540001\n\n[2563 rows x 3 columns]",
      "text/html": "<div>\n<style scoped>\n    .dataframe tbody tr th:only-of-type {\n        vertical-align: middle;\n    }\n\n    .dataframe tbody tr th {\n        vertical-align: top;\n    }\n\n    .dataframe thead th {\n        text-align: right;\n    }\n</style>\n<table border=\"1\" class=\"dataframe\">\n  <thead>\n    <tr style=\"text-align: right;\">\n      <th></th>\n      <th>Date</th>\n      <th>AAPL_hlc3</th>\n      <th>NVDA_hlc3</th>\n    </tr>\n  </thead>\n  <tbody>\n    <tr>\n      <th>0</th>\n      <td>2015-01-02</td>\n      <td>24.629636</td>\n      <td>0.484299</td>\n    </tr>\n    <tr>\n      <th>1</th>\n      <td>2015-01-05</td>\n      <td>23.964512</td>\n      <td>0.480859</td>\n    </tr>\n    <tr>\n      <th>2</th>\n      <td>2015-01-06</td>\n      <td>23.745027</td>\n      <td>0.470780</td>\n    </tr>\n    <tr>\n      <th>3</th>\n      <td>2015-01-07</td>\n      <td>23.961552</td>\n      <td>0.463740</td>\n    </tr>\n    <tr>\n      <th>4</th>\n      <td>2015-01-08</td>\n      <td>24.711945</td>\n      <td>0.473580</td>\n    </tr>\n    <tr>\n      <th>...</th>\n      <td>...</td>\n      <td>...</td>\n      <td>...</td>\n    </tr>\n    <tr>\n      <th>2558</th>\n      <td>2025-03-06</td>\n      <td>235.876668</td>\n      <td>113.139592</td>\n    </tr>\n    <tr>\n      <th>2559</th>\n      <td>2025-03-07</td>\n      <td>238.516668</td>\n      <td>112.462994</td>\n    </tr>\n    <tr>\n      <th>2560</th>\n      <td>2025-03-10</td>\n      <td>233.059998</td>\n      <td>109.566587</td>\n    </tr>\n    <tr>\n      <th>2561</th>\n      <td>2025-03-11</td>\n      <td>223.496663</td>\n      <td>109.319945</td>\n    </tr>\n    <tr>\n      <th>2562</th>\n      <td>2025-03-12</td>\n      <td>219.623332</td>\n      <td>115.540001</td>\n    </tr>\n  </tbody>\n</table>\n<p>2563 rows × 3 columns</p>\n</div>"
     },
     "execution_count": 37,
     "metadata": {},
     "output_type": "execute_result"
    }
   ],
   "source": [
    "aapl = hist_a[['Date', 'hlc3']].rename(columns={'hlc3': 'AAPL_hlc3'})\n",
    "nvda = hist_b[['Date', 'hlc3']].rename(columns={'hlc3': 'NVDA_hlc3'})\n",
    "# nvda\n",
    "\n",
    "merge = pd.merge(aapl, nvda)\n",
    "merge"
   ],
   "metadata": {
    "collapsed": false,
    "ExecuteTime": {
     "end_time": "2025-03-13T07:25:42.882631400Z",
     "start_time": "2025-03-13T07:25:42.853387100Z"
    }
   }
  },
  {
   "cell_type": "code",
   "execution_count": 39,
   "outputs": [
    {
     "data": {
      "text/plain": "           AAPL_hlc3  NVDA_hlc3\nAAPL_hlc3   1.000000   0.813342\nNVDA_hlc3   0.813342   1.000000",
      "text/html": "<div>\n<style scoped>\n    .dataframe tbody tr th:only-of-type {\n        vertical-align: middle;\n    }\n\n    .dataframe tbody tr th {\n        vertical-align: top;\n    }\n\n    .dataframe thead th {\n        text-align: right;\n    }\n</style>\n<table border=\"1\" class=\"dataframe\">\n  <thead>\n    <tr style=\"text-align: right;\">\n      <th></th>\n      <th>AAPL_hlc3</th>\n      <th>NVDA_hlc3</th>\n    </tr>\n  </thead>\n  <tbody>\n    <tr>\n      <th>AAPL_hlc3</th>\n      <td>1.000000</td>\n      <td>0.813342</td>\n    </tr>\n    <tr>\n      <th>NVDA_hlc3</th>\n      <td>0.813342</td>\n      <td>1.000000</td>\n    </tr>\n  </tbody>\n</table>\n</div>"
     },
     "execution_count": 39,
     "metadata": {},
     "output_type": "execute_result"
    }
   ],
   "source": [
    "merge[['AAPL_hlc3', 'NVDA_hlc3']].corr()"
   ],
   "metadata": {
    "collapsed": false,
    "ExecuteTime": {
     "end_time": "2025-03-13T07:26:45.351989800Z",
     "start_time": "2025-03-13T07:26:45.338375600Z"
    }
   }
  },
  {
   "cell_type": "code",
   "execution_count": 43,
   "outputs": [
    {
     "data": {
      "text/plain": "<Figure size 640x480 with 1 Axes>",
      "image/png": "[encoded data removed]"
     },
     "metadata": {},
     "output_type": "display_data"
    }
   ],
   "source": [
    "sns.lineplot(hist, x='Date', y='log_hlc3')\n",
    "plt.show()"
   ],
   "metadata": {
    "collapsed": false,
    "ExecuteTime": {
     "end_time": "2025-03-13T07:34:26.931353Z",
     "start_time": "2025-03-13T07:34:26.734937Z"
    }
   }
  },
  {
   "cell_type": "code",
   "execution_count": null,
   "outputs": [],
   "source": [
    "stmt = ticker.get_income_stmt(freq='quarterly').T\n",
    "stmt"
   ],
   "metadata": {
    "collapsed": false
   }
  },
  {
   "cell_type": "code",
   "execution_count": null,
   "outputs": [],
   "source": [
    "list(sorted(stmt.columns))"
   ],
   "metadata": {
    "collapsed": false
   }
  },
  {
   "cell_type": "code",
   "execution_count": null,
   "outputs": [],
   "source": [
    "sns.lineplot(hist, x='Date', y='log_hlc3')\n",
    "sns.lineplot(stmt, x=stmt.index, y='BasicEPS')\n",
    "plt.show()"
   ],
   "metadata": {
    "collapsed": false
   }
  },
  {
   "cell_type": "code",
   "execution_count": null,
   "outputs": [],
   "source": [
    "stmt2 = pd.read_csv('resources/NVDA.csv')\n",
    "stmt2.drop(['period', 'act_symbol'], axis=1, inplace=True)\n",
    "stmt2"
   ],
   "metadata": {
    "collapsed": false
   }
  },
  {
   "cell_type": "code",
   "execution_count": null,
   "outputs": [],
   "source": [
    "list(sorted(stmt2.columns))"
   ],
   "metadata": {
    "collapsed": false
   }
  },
  {
   "cell_type": "code",
   "execution_count": null,
   "outputs": [],
   "source": [
    "sns.lineplot(hist, x='Date', y='log_hlc3')\n",
    "sns.lineplot(stmt2, x='date', y='BasicEPS')\n",
    "plt.show()"
   ],
   "metadata": {
    "collapsed": false
   }
  }
 ],
 "metadata": {
  "kernelspec": {
   "display_name": "Python 3",
   "language": "python",
   "name": "python3"
  },
  "language_info": {
   "codemirror_mode": {
    "name": "ipython",
    "version": 2
   },
   "file_extension": ".py",
   "mimetype": "text/x-python",
   "name": "python",
   "nbconvert_exporter": "python",
   "pygments_lexer": "ipython2",
   "version": "2.7.6"
  }
 },
 "nbformat": 4,
 "nbformat_minor": 0
}
