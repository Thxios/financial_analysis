{
 "cells": [
  {
   "cell_type": "code",
   "execution_count": 1,
   "metadata": {
    "collapsed": true,
    "ExecuteTime": {
     "end_time": "2025-03-14T15:11:32.653569600Z",
     "start_time": "2025-03-14T15:11:32.632632700Z"
    }
   },
   "outputs": [],
   "source": [
    "import pandas as pd\n",
    "import datetime as dt\n",
    "import numpy as np"
   ]
  },
  {
   "cell_type": "code",
   "execution_count": 2,
   "outputs": [
    {
     "data": {
      "text/plain": "    year     date  interest\n0   2025  02월 25일      2.75\n1   2024  11월 28일      3.00\n2   2024  10월 11일      3.25\n3   2023  01월 13일      3.50\n4   2022  11월 24일      3.25\n5   2022  10월 12일      3.00\n6   2022  08월 25일      2.50\n7   2022  07월 13일      2.25\n8   2022  05월 26일      1.75\n9   2022  04월 14일      1.50\n10  2022  01월 14일      1.25\n11  2021  11월 25일      1.00\n12  2021  08월 26일      0.75\n13  2020  05월 28일      0.50\n14  2020  03월 17일      0.75\n15  2019  10월 16일      1.25\n16  2019  07월 18일      1.50\n17  2018  11월 30일      1.75\n18  2017  11월 30일      1.50\n19  2016  06월 09일      1.25\n20  2015  06월 11일      1.50\n21  2015  03월 12일      1.75\n22  2014  10월 15일      2.00\n23  2014  08월 14일      2.25\n24  2013  05월 09일      2.50\n25  2012  10월 11일      2.75\n26  2012  07월 12일      3.00\n27  2011  06월 10일      3.25\n28  2011  03월 10일      3.00\n29  2011  01월 13일      2.75\n30  2010  11월 16일      2.50\n31  2010  07월 09일      2.25\n32  2009  02월 12일      2.00\n33  2009  01월 09일      2.50\n34  2008  12월 11일      3.00\n35  2008  11월 07일      4.00\n36  2008  10월 27일      4.25\n37  2008  10월 09일      5.00\n38  2008  08월 07일      5.25\n39  2007  08월 09일      5.00\n40  2007  07월 12일      4.75\n41  2006  08월 10일      4.50\n42  2006  06월 08일      4.25\n43  2006  02월 09일      4.00\n44  2005  12월 08일      3.75\n45  2005  10월 11일      3.50\n46  2004  11월 11일      3.25\n47  2004  08월 12일      3.50\n48  2003  07월 10일      3.75\n49  2003  05월 13일      4.00\n50  2002  05월 07일      4.25\n51  2001  09월 19일      4.00\n52  2001  08월 09일      4.50\n53  2001  07월 05일      4.75\n54  2001  02월 08일      5.00\n55  2000  10월 05일      5.25\n56  2000  02월 10일      5.00\n57  1999  05월 06일      4.75",
      "text/html": "<div>\n<style scoped>\n    .dataframe tbody tr th:only-of-type {\n        vertical-align: middle;\n    }\n\n    .dataframe tbody tr th {\n        vertical-align: top;\n    }\n\n    .dataframe thead th {\n        text-align: right;\n    }\n</style>\n<table border=\"1\" class=\"dataframe\">\n  <thead>\n    <tr style=\"text-align: right;\">\n      <th></th>\n      <th>year</th>\n      <th>date</th>\n      <th>interest</th>\n    </tr>\n  </thead>\n  <tbody>\n    <tr>\n      <th>0</th>\n      <td>2025</td>\n      <td>02월 25일</td>\n      <td>2.75</td>\n    </tr>\n    <tr>\n      <th>1</th>\n      <td>2024</td>\n      <td>11월 28일</td>\n      <td>3.00</td>\n    </tr>\n    <tr>\n      <th>2</th>\n      <td>2024</td>\n      <td>10월 11일</td>\n      <td>3.25</td>\n    </tr>\n    <tr>\n      <th>3</th>\n      <td>2023</td>\n      <td>01월 13일</td>\n      <td>3.50</td>\n    </tr>\n    <tr>\n      <th>4</th>\n      <td>2022</td>\n      <td>11월 24일</td>\n      <td>3.25</td>\n    </tr>\n    <tr>\n      <th>5</th>\n      <td>2022</td>\n      <td>10월 12일</td>\n      <td>3.00</td>\n    </tr>\n    <tr>\n      <th>6</th>\n      <td>2022</td>\n      <td>08월 25일</td>\n      <td>2.50</td>\n    </tr>\n    <tr>\n      <th>7</th>\n      <td>2022</td>\n      <td>07월 13일</td>\n      <td>2.25</td>\n    </tr>\n    <tr>\n      <th>8</th>\n      <td>2022</td>\n      <td>05월 26일</td>\n      <td>1.75</td>\n    </tr>\n    <tr>\n      <th>9</th>\n      <td>2022</td>\n      <td>04월 14일</td>\n      <td>1.50</td>\n    </tr>\n    <tr>\n      <th>10</th>\n      <td>2022</td>\n      <td>01월 14일</td>\n      <td>1.25</td>\n    </tr>\n    <tr>\n      <th>11</th>\n      <td>2021</td>\n      <td>11월 25일</td>\n      <td>1.00</td>\n    </tr>\n    <tr>\n      <th>12</th>\n      <td>2021</td>\n      <td>08월 26일</td>\n      <td>0.75</td>\n    </tr>\n    <tr>\n      <th>13</th>\n      <td>2020</td>\n      <td>05월 28일</td>\n      <td>0.50</td>\n    </tr>\n    <tr>\n      <th>14</th>\n      <td>2020</td>\n      <td>03월 17일</td>\n      <td>0.75</td>\n    </tr>\n    <tr>\n      <th>15</th>\n      <td>2019</td>\n      <td>10월 16일</td>\n      <td>1.25</td>\n    </tr>\n    <tr>\n      <th>16</th>\n      <td>2019</td>\n      <td>07월 18일</td>\n      <td>1.50</td>\n    </tr>\n    <tr>\n      <th>17</th>\n      <td>2018</td>\n      <td>11월 30일</td>\n      <td>1.75</td>\n    </tr>\n    <tr>\n      <th>18</th>\n      <td>2017</td>\n      <td>11월 30일</td>\n      <td>1.50</td>\n    </tr>\n    <tr>\n      <th>19</th>\n      <td>2016</td>\n      <td>06월 09일</td>\n      <td>1.25</td>\n    </tr>\n    <tr>\n      <th>20</th>\n      <td>2015</td>\n      <td>06월 11일</td>\n      <td>1.50</td>\n    </tr>\n    <tr>\n      <th>21</th>\n      <td>2015</td>\n      <td>03월 12일</td>\n      <td>1.75</td>\n    </tr>\n    <tr>\n      <th>22</th>\n      <td>2014</td>\n      <td>10월 15일</td>\n      <td>2.00</td>\n    </tr>\n    <tr>\n      <th>23</th>\n      <td>2014</td>\n      <td>08월 14일</td>\n      <td>2.25</td>\n    </tr>\n    <tr>\n      <th>24</th>\n      <td>2013</td>\n      <td>05월 09일</td>\n      <td>2.50</td>\n    </tr>\n    <tr>\n      <th>25</th>\n      <td>2012</td>\n      <td>10월 11일</td>\n      <td>2.75</td>\n    </tr>\n    <tr>\n      <th>26</th>\n      <td>2012</td>\n      <td>07월 12일</td>\n      <td>3.00</td>\n    </tr>\n    <tr>\n      <th>27</th>\n      <td>2011</td>\n      <td>06월 10일</td>\n      <td>3.25</td>\n    </tr>\n    <tr>\n      <th>28</th>\n      <td>2011</td>\n      <td>03월 10일</td>\n      <td>3.00</td>\n    </tr>\n    <tr>\n      <th>29</th>\n      <td>2011</td>\n      <td>01월 13일</td>\n      <td>2.75</td>\n    </tr>\n    <tr>\n      <th>30</th>\n      <td>2010</td>\n      <td>11월 16일</td>\n      <td>2.50</td>\n    </tr>\n    <tr>\n      <th>31</th>\n      <td>2010</td>\n      <td>07월 09일</td>\n      <td>2.25</td>\n    </tr>\n    <tr>\n      <th>32</th>\n      <td>2009</td>\n      <td>02월 12일</td>\n      <td>2.00</td>\n    </tr>\n    <tr>\n      <th>33</th>\n      <td>2009</td>\n      <td>01월 09일</td>\n      <td>2.50</td>\n    </tr>\n    <tr>\n      <th>34</th>\n      <td>2008</td>\n      <td>12월 11일</td>\n      <td>3.00</td>\n    </tr>\n    <tr>\n      <th>35</th>\n      <td>2008</td>\n      <td>11월 07일</td>\n      <td>4.00</td>\n    </tr>\n    <tr>\n      <th>36</th>\n      <td>2008</td>\n      <td>10월 27일</td>\n      <td>4.25</td>\n    </tr>\n    <tr>\n      <th>37</th>\n      <td>2008</td>\n      <td>10월 09일</td>\n      <td>5.00</td>\n    </tr>\n    <tr>\n      <th>38</th>\n      <td>2008</td>\n      <td>08월 07일</td>\n      <td>5.25</td>\n    </tr>\n    <tr>\n      <th>39</th>\n      <td>2007</td>\n      <td>08월 09일</td>\n      <td>5.00</td>\n    </tr>\n    <tr>\n      <th>40</th>\n      <td>2007</td>\n      <td>07월 12일</td>\n      <td>4.75</td>\n    </tr>\n    <tr>\n      <th>41</th>\n      <td>2006</td>\n      <td>08월 10일</td>\n      <td>4.50</td>\n    </tr>\n    <tr>\n      <th>42</th>\n      <td>2006</td>\n      <td>06월 08일</td>\n      <td>4.25</td>\n    </tr>\n    <tr>\n      <th>43</th>\n      <td>2006</td>\n      <td>02월 09일</td>\n      <td>4.00</td>\n    </tr>\n    <tr>\n      <th>44</th>\n      <td>2005</td>\n      <td>12월 08일</td>\n      <td>3.75</td>\n    </tr>\n    <tr>\n      <th>45</th>\n      <td>2005</td>\n      <td>10월 11일</td>\n      <td>3.50</td>\n    </tr>\n    <tr>\n      <th>46</th>\n      <td>2004</td>\n      <td>11월 11일</td>\n      <td>3.25</td>\n    </tr>\n    <tr>\n      <th>47</th>\n      <td>2004</td>\n      <td>08월 12일</td>\n      <td>3.50</td>\n    </tr>\n    <tr>\n      <th>48</th>\n      <td>2003</td>\n      <td>07월 10일</td>\n      <td>3.75</td>\n    </tr>\n    <tr>\n      <th>49</th>\n      <td>2003</td>\n      <td>05월 13일</td>\n      <td>4.00</td>\n    </tr>\n    <tr>\n      <th>50</th>\n      <td>2002</td>\n      <td>05월 07일</td>\n      <td>4.25</td>\n    </tr>\n    <tr>\n      <th>51</th>\n      <td>2001</td>\n      <td>09월 19일</td>\n      <td>4.00</td>\n    </tr>\n    <tr>\n      <th>52</th>\n      <td>2001</td>\n      <td>08월 09일</td>\n      <td>4.50</td>\n    </tr>\n    <tr>\n      <th>53</th>\n      <td>2001</td>\n      <td>07월 05일</td>\n      <td>4.75</td>\n    </tr>\n    <tr>\n      <th>54</th>\n      <td>2001</td>\n      <td>02월 08일</td>\n      <td>5.00</td>\n    </tr>\n    <tr>\n      <th>55</th>\n      <td>2000</td>\n      <td>10월 05일</td>\n      <td>5.25</td>\n    </tr>\n    <tr>\n      <th>56</th>\n      <td>2000</td>\n      <td>02월 10일</td>\n      <td>5.00</td>\n    </tr>\n    <tr>\n      <th>57</th>\n      <td>1999</td>\n      <td>05월 06일</td>\n      <td>4.75</td>\n    </tr>\n  </tbody>\n</table>\n</div>"
     },
     "execution_count": 2,
     "metadata": {},
     "output_type": "execute_result"
    }
   ],
   "source": [
    "raw = pd.read_csv('resources/korean_interest_raw.csv', sep='\\t')\n",
    "raw"
   ],
   "metadata": {
    "collapsed": false,
    "ExecuteTime": {
     "end_time": "2025-03-13T14:25:30.956846200Z",
     "start_time": "2025-03-13T14:25:30.924847Z"
    }
   }
  },
  {
   "cell_type": "code",
   "execution_count": 3,
   "outputs": [],
   "source": [
    "def to_datetime(y, d):\n",
    "    return dt.datetime.strptime(str(y) + ' ' + d, '%Y %m월 %d일')"
   ],
   "metadata": {
    "collapsed": false,
    "ExecuteTime": {
     "end_time": "2025-03-13T14:25:32.849601200Z",
     "start_time": "2025-03-13T14:25:32.839072800Z"
    }
   }
  },
  {
   "cell_type": "code",
   "execution_count": 4,
   "outputs": [
    {
     "name": "stdout",
     "output_type": "stream",
     "text": [
      "            interest\n",
      "date                \n",
      "1999-05-06      4.75\n",
      "2000-02-10      5.00\n",
      "2000-10-05      5.25\n",
      "2001-02-08      5.00\n",
      "2001-07-05      4.75\n",
      "2001-08-09      4.50\n",
      "2001-09-19      4.00\n",
      "2002-05-07      4.25\n",
      "2003-05-13      4.00\n",
      "2003-07-10      3.75\n",
      "2004-08-12      3.50\n",
      "2004-11-11      3.25\n",
      "2005-10-11      3.50\n",
      "2005-12-08      3.75\n",
      "2006-02-09      4.00\n",
      "2006-06-08      4.25\n",
      "2006-08-10      4.50\n",
      "2007-07-12      4.75\n",
      "2007-08-09      5.00\n",
      "2008-08-07      5.25\n",
      "2008-10-09      5.00\n",
      "2008-10-27      4.25\n",
      "2008-11-07      4.00\n",
      "2008-12-11      3.00\n",
      "2009-01-09      2.50\n",
      "2009-02-12      2.00\n",
      "2010-07-09      2.25\n",
      "2010-11-16      2.50\n",
      "2011-01-13      2.75\n",
      "2011-03-10      3.00\n",
      "2011-06-10      3.25\n",
      "2012-07-12      3.00\n",
      "2012-10-11      2.75\n",
      "2013-05-09      2.50\n",
      "2014-08-14      2.25\n",
      "2014-10-15      2.00\n",
      "2015-03-12      1.75\n",
      "2015-06-11      1.50\n",
      "2016-06-09      1.25\n",
      "2017-11-30      1.50\n",
      "2018-11-30      1.75\n",
      "2019-07-18      1.50\n",
      "2019-10-16      1.25\n",
      "2020-03-17      0.75\n",
      "2020-05-28      0.50\n",
      "2021-08-26      0.75\n",
      "2021-11-25      1.00\n",
      "2022-01-14      1.25\n",
      "2022-04-14      1.50\n",
      "2022-05-26      1.75\n",
      "2022-07-13      2.25\n",
      "2022-08-25      2.50\n",
      "2022-10-12      3.00\n",
      "2022-11-24      3.25\n",
      "2023-01-13      3.50\n",
      "2024-10-11      3.25\n",
      "2024-11-28      3.00\n",
      "2025-02-25      2.75\n"
     ]
    }
   ],
   "source": [
    "df_dict = {\n",
    "    'date': [],\n",
    "    'interest': []\n",
    "}\n",
    "for i, (y, d, inter) in raw.iterrows():\n",
    "    df_dict['date'].append(to_datetime(y, d))\n",
    "    df_dict['interest'].append(inter)\n",
    "\n",
    "inter_df: pd.DataFrame = pd.DataFrame.from_dict(df_dict).iloc[::-1].reset_index(drop=True)\n",
    "print(inter_df.set_index('date'))"
   ],
   "metadata": {
    "collapsed": false,
    "ExecuteTime": {
     "end_time": "2025-03-13T14:25:33.620860600Z",
     "start_time": "2025-03-13T14:25:33.612859400Z"
    }
   }
  },
  {
   "cell_type": "code",
   "execution_count": 2,
   "outputs": [
    {
     "data": {
      "text/plain": "            interest\ndate                \n1999-05-06      4.75\n2000-02-10      5.00\n2000-10-05      5.25\n2001-02-08      5.00\n2001-07-05      4.75\n2001-08-09      4.50\n2001-09-19      4.00\n2002-05-07      4.25\n2003-05-13      4.00\n2003-07-10      3.75\n2004-08-12      3.50\n2004-11-11      3.25\n2005-10-11      3.50\n2005-12-08      3.75\n2006-02-09      4.00\n2006-06-08      4.25\n2006-08-10      4.50\n2007-07-12      4.75\n2007-08-09      5.00\n2008-08-07      5.25\n2008-10-09      5.00\n2008-10-27      4.25\n2008-11-07      4.00\n2008-12-11      3.00\n2009-01-09      2.50\n2009-02-12      2.00\n2010-07-09      2.25\n2010-11-16      2.50\n2011-01-13      2.75\n2011-03-10      3.00\n2011-06-10      3.25\n2012-07-12      3.00\n2012-10-11      2.75\n2013-05-09      2.50\n2014-08-14      2.25\n2014-10-15      2.00\n2015-03-12      1.75\n2015-06-11      1.50\n2016-06-09      1.25\n2017-11-30      1.50\n2018-11-30      1.75\n2019-07-18      1.50\n2019-10-16      1.25\n2020-03-17      0.75\n2020-05-28      0.50\n2021-08-26      0.75\n2021-11-25      1.00\n2022-01-14      1.25\n2022-04-14      1.50\n2022-05-26      1.75\n2022-07-13      2.25\n2022-08-25      2.50\n2022-10-12      3.00\n2022-11-24      3.25\n2023-01-13      3.50\n2024-10-11      3.25\n2024-11-28      3.00\n2025-02-25      2.75",
      "text/html": "<div>\n<style scoped>\n    .dataframe tbody tr th:only-of-type {\n        vertical-align: middle;\n    }\n\n    .dataframe tbody tr th {\n        vertical-align: top;\n    }\n\n    .dataframe thead th {\n        text-align: right;\n    }\n</style>\n<table border=\"1\" class=\"dataframe\">\n  <thead>\n    <tr style=\"text-align: right;\">\n      <th></th>\n      <th>interest</th>\n    </tr>\n    <tr>\n      <th>date</th>\n      <th></th>\n    </tr>\n  </thead>\n  <tbody>\n    <tr>\n      <th>1999-05-06</th>\n      <td>4.75</td>\n    </tr>\n    <tr>\n      <th>2000-02-10</th>\n      <td>5.00</td>\n    </tr>\n    <tr>\n      <th>2000-10-05</th>\n      <td>5.25</td>\n    </tr>\n    <tr>\n      <th>2001-02-08</th>\n      <td>5.00</td>\n    </tr>\n    <tr>\n      <th>2001-07-05</th>\n      <td>4.75</td>\n    </tr>\n    <tr>\n      <th>2001-08-09</th>\n      <td>4.50</td>\n    </tr>\n    <tr>\n      <th>2001-09-19</th>\n      <td>4.00</td>\n    </tr>\n    <tr>\n      <th>2002-05-07</th>\n      <td>4.25</td>\n    </tr>\n    <tr>\n      <th>2003-05-13</th>\n      <td>4.00</td>\n    </tr>\n    <tr>\n      <th>2003-07-10</th>\n      <td>3.75</td>\n    </tr>\n    <tr>\n      <th>2004-08-12</th>\n      <td>3.50</td>\n    </tr>\n    <tr>\n      <th>2004-11-11</th>\n      <td>3.25</td>\n    </tr>\n    <tr>\n      <th>2005-10-11</th>\n      <td>3.50</td>\n    </tr>\n    <tr>\n      <th>2005-12-08</th>\n      <td>3.75</td>\n    </tr>\n    <tr>\n      <th>2006-02-09</th>\n      <td>4.00</td>\n    </tr>\n    <tr>\n      <th>2006-06-08</th>\n      <td>4.25</td>\n    </tr>\n    <tr>\n      <th>2006-08-10</th>\n      <td>4.50</td>\n    </tr>\n    <tr>\n      <th>2007-07-12</th>\n      <td>4.75</td>\n    </tr>\n    <tr>\n      <th>2007-08-09</th>\n      <td>5.00</td>\n    </tr>\n    <tr>\n      <th>2008-08-07</th>\n      <td>5.25</td>\n    </tr>\n    <tr>\n      <th>2008-10-09</th>\n      <td>5.00</td>\n    </tr>\n    <tr>\n      <th>2008-10-27</th>\n      <td>4.25</td>\n    </tr>\n    <tr>\n      <th>2008-11-07</th>\n      <td>4.00</td>\n    </tr>\n    <tr>\n      <th>2008-12-11</th>\n      <td>3.00</td>\n    </tr>\n    <tr>\n      <th>2009-01-09</th>\n      <td>2.50</td>\n    </tr>\n    <tr>\n      <th>2009-02-12</th>\n      <td>2.00</td>\n    </tr>\n    <tr>\n      <th>2010-07-09</th>\n      <td>2.25</td>\n    </tr>\n    <tr>\n      <th>2010-11-16</th>\n      <td>2.50</td>\n    </tr>\n    <tr>\n      <th>2011-01-13</th>\n      <td>2.75</td>\n    </tr>\n    <tr>\n      <th>2011-03-10</th>\n      <td>3.00</td>\n    </tr>\n    <tr>\n      <th>2011-06-10</th>\n      <td>3.25</td>\n    </tr>\n    <tr>\n      <th>2012-07-12</th>\n      <td>3.00</td>\n    </tr>\n    <tr>\n      <th>2012-10-11</th>\n      <td>2.75</td>\n    </tr>\n    <tr>\n      <th>2013-05-09</th>\n      <td>2.50</td>\n    </tr>\n    <tr>\n      <th>2014-08-14</th>\n      <td>2.25</td>\n    </tr>\n    <tr>\n      <th>2014-10-15</th>\n      <td>2.00</td>\n    </tr>\n    <tr>\n      <th>2015-03-12</th>\n      <td>1.75</td>\n    </tr>\n    <tr>\n      <th>2015-06-11</th>\n      <td>1.50</td>\n    </tr>\n    <tr>\n      <th>2016-06-09</th>\n      <td>1.25</td>\n    </tr>\n    <tr>\n      <th>2017-11-30</th>\n      <td>1.50</td>\n    </tr>\n    <tr>\n      <th>2018-11-30</th>\n      <td>1.75</td>\n    </tr>\n    <tr>\n      <th>2019-07-18</th>\n      <td>1.50</td>\n    </tr>\n    <tr>\n      <th>2019-10-16</th>\n      <td>1.25</td>\n    </tr>\n    <tr>\n      <th>2020-03-17</th>\n      <td>0.75</td>\n    </tr>\n    <tr>\n      <th>2020-05-28</th>\n      <td>0.50</td>\n    </tr>\n    <tr>\n      <th>2021-08-26</th>\n      <td>0.75</td>\n    </tr>\n    <tr>\n      <th>2021-11-25</th>\n      <td>1.00</td>\n    </tr>\n    <tr>\n      <th>2022-01-14</th>\n      <td>1.25</td>\n    </tr>\n    <tr>\n      <th>2022-04-14</th>\n      <td>1.50</td>\n    </tr>\n    <tr>\n      <th>2022-05-26</th>\n      <td>1.75</td>\n    </tr>\n    <tr>\n      <th>2022-07-13</th>\n      <td>2.25</td>\n    </tr>\n    <tr>\n      <th>2022-08-25</th>\n      <td>2.50</td>\n    </tr>\n    <tr>\n      <th>2022-10-12</th>\n      <td>3.00</td>\n    </tr>\n    <tr>\n      <th>2022-11-24</th>\n      <td>3.25</td>\n    </tr>\n    <tr>\n      <th>2023-01-13</th>\n      <td>3.50</td>\n    </tr>\n    <tr>\n      <th>2024-10-11</th>\n      <td>3.25</td>\n    </tr>\n    <tr>\n      <th>2024-11-28</th>\n      <td>3.00</td>\n    </tr>\n    <tr>\n      <th>2025-02-25</th>\n      <td>2.75</td>\n    </tr>\n  </tbody>\n</table>\n</div>"
     },
     "execution_count": 2,
     "metadata": {},
     "output_type": "execute_result"
    }
   ],
   "source": [
    "inter_df = pd.read_csv('resources/korean_interest_changes.csv', index_col='date', parse_dates=['date'])\n",
    "inter_df"
   ],
   "metadata": {
    "collapsed": false,
    "ExecuteTime": {
     "end_time": "2025-03-14T15:12:07.612963100Z",
     "start_time": "2025-03-14T15:12:07.553819100Z"
    }
   }
  },
  {
   "cell_type": "code",
   "execution_count": 5,
   "outputs": [],
   "source": [
    "def interests_to_balance(inter_df: pd.DataFrame, st, ed):\n",
    "    dates = pd.date_range(start=pd.Timestamp(st), end=pd.Timestamp(ed), freq='D')\n",
    "    df = inter_df.copy()\n",
    "    df = df.reindex(df.index.append(pd.Index([ed]))).ffill()  # 마지막 값 유지\n",
    "    df = df.reindex(dates, method=\"ffill\")  # 일 단위로 확장\n",
    "    cum_log = (np.log(1 + df['interest'] / 100) / 365).cumsum()\n",
    "    return np.exp(cum_log)"
   ],
   "metadata": {
    "collapsed": false,
    "ExecuteTime": {
     "end_time": "2025-03-14T15:15:24.768123200Z",
     "start_time": "2025-03-14T15:15:24.752492400Z"
    }
   }
  },
  {
   "cell_type": "code",
   "execution_count": 3,
   "outputs": [
    {
     "data": {
      "text/plain": "            interest\n2000-01-01      4.75\n2000-01-02      4.75\n2000-01-03      4.75\n2000-01-04      4.75\n2000-01-05      4.75\n...              ...\n2025-03-08      2.75\n2025-03-09      2.75\n2025-03-10      2.75\n2025-03-11      2.75\n2025-03-12      2.75\n\n[9203 rows x 1 columns]",
      "text/html": "<div>\n<style scoped>\n    .dataframe tbody tr th:only-of-type {\n        vertical-align: middle;\n    }\n\n    .dataframe tbody tr th {\n        vertical-align: top;\n    }\n\n    .dataframe thead th {\n        text-align: right;\n    }\n</style>\n<table border=\"1\" class=\"dataframe\">\n  <thead>\n    <tr style=\"text-align: right;\">\n      <th></th>\n      <th>interest</th>\n    </tr>\n  </thead>\n  <tbody>\n    <tr>\n      <th>2000-01-01</th>\n      <td>4.75</td>\n    </tr>\n    <tr>\n      <th>2000-01-02</th>\n      <td>4.75</td>\n    </tr>\n    <tr>\n      <th>2000-01-03</th>\n      <td>4.75</td>\n    </tr>\n    <tr>\n      <th>2000-01-04</th>\n      <td>4.75</td>\n    </tr>\n    <tr>\n      <th>2000-01-05</th>\n      <td>4.75</td>\n    </tr>\n    <tr>\n      <th>...</th>\n      <td>...</td>\n    </tr>\n    <tr>\n      <th>2025-03-08</th>\n      <td>2.75</td>\n    </tr>\n    <tr>\n      <th>2025-03-09</th>\n      <td>2.75</td>\n    </tr>\n    <tr>\n      <th>2025-03-10</th>\n      <td>2.75</td>\n    </tr>\n    <tr>\n      <th>2025-03-11</th>\n      <td>2.75</td>\n    </tr>\n    <tr>\n      <th>2025-03-12</th>\n      <td>2.75</td>\n    </tr>\n  </tbody>\n</table>\n<p>9203 rows × 1 columns</p>\n</div>"
     },
     "execution_count": 3,
     "metadata": {},
     "output_type": "execute_result"
    }
   ],
   "source": [
    "df = inter_df.copy()\n",
    "st = pd.Timestamp('2000-01-01')\n",
    "ed = pd.Timestamp('2025-03-12')\n",
    "dates = pd.date_range(start=st, end=ed, freq='D')\n",
    "df = df.reindex(df.index.append(pd.Index([ed]))).ffill()  # 마지막 값 유지\n",
    "df = df.reindex(dates, method=\"ffill\")  # 일 단위로 확장\n",
    "df"
   ],
   "metadata": {
    "collapsed": false,
    "ExecuteTime": {
     "end_time": "2025-03-14T15:12:26.929007900Z",
     "start_time": "2025-03-14T15:12:26.904160200Z"
    }
   }
  },
  {
   "cell_type": "code",
   "execution_count": 6,
   "outputs": [
    {
     "data": {
      "text/plain": "            interest     balance      bal2\n2000-01-01      4.75  100.012715  1.000127\n2000-01-02      4.75  100.025431  1.000254\n2000-01-03      4.75  100.038149  1.000381\n2000-01-04      4.75  100.050869  1.000509\n2000-01-05      4.75  100.063591  1.000636\n...              ...         ...       ...\n2025-03-08      2.75  203.132979  2.031330\n2025-03-09      2.75  203.148077  2.031481\n2025-03-10      2.75  203.163177  2.031632\n2025-03-11      2.75  203.178278  2.031783\n2025-03-12      2.75  203.193380  2.031934\n\n[9203 rows x 3 columns]",
      "text/html": "<div>\n<style scoped>\n    .dataframe tbody tr th:only-of-type {\n        vertical-align: middle;\n    }\n\n    .dataframe tbody tr th {\n        vertical-align: top;\n    }\n\n    .dataframe thead th {\n        text-align: right;\n    }\n</style>\n<table border=\"1\" class=\"dataframe\">\n  <thead>\n    <tr style=\"text-align: right;\">\n      <th></th>\n      <th>interest</th>\n      <th>balance</th>\n      <th>bal2</th>\n    </tr>\n  </thead>\n  <tbody>\n    <tr>\n      <th>2000-01-01</th>\n      <td>4.75</td>\n      <td>100.012715</td>\n      <td>1.000127</td>\n    </tr>\n    <tr>\n      <th>2000-01-02</th>\n      <td>4.75</td>\n      <td>100.025431</td>\n      <td>1.000254</td>\n    </tr>\n    <tr>\n      <th>2000-01-03</th>\n      <td>4.75</td>\n      <td>100.038149</td>\n      <td>1.000381</td>\n    </tr>\n    <tr>\n      <th>2000-01-04</th>\n      <td>4.75</td>\n      <td>100.050869</td>\n      <td>1.000509</td>\n    </tr>\n    <tr>\n      <th>2000-01-05</th>\n      <td>4.75</td>\n      <td>100.063591</td>\n      <td>1.000636</td>\n    </tr>\n    <tr>\n      <th>...</th>\n      <td>...</td>\n      <td>...</td>\n      <td>...</td>\n    </tr>\n    <tr>\n      <th>2025-03-08</th>\n      <td>2.75</td>\n      <td>203.132979</td>\n      <td>2.031330</td>\n    </tr>\n    <tr>\n      <th>2025-03-09</th>\n      <td>2.75</td>\n      <td>203.148077</td>\n      <td>2.031481</td>\n    </tr>\n    <tr>\n      <th>2025-03-10</th>\n      <td>2.75</td>\n      <td>203.163177</td>\n      <td>2.031632</td>\n    </tr>\n    <tr>\n      <th>2025-03-11</th>\n      <td>2.75</td>\n      <td>203.178278</td>\n      <td>2.031783</td>\n    </tr>\n    <tr>\n      <th>2025-03-12</th>\n      <td>2.75</td>\n      <td>203.193380</td>\n      <td>2.031934</td>\n    </tr>\n  </tbody>\n</table>\n<p>9203 rows × 3 columns</p>\n</div>"
     },
     "execution_count": 6,
     "metadata": {},
     "output_type": "execute_result"
    }
   ],
   "source": [
    "df['bal2'] = interests_to_balance(inter_df, st, ed)\n",
    "df"
   ],
   "metadata": {
    "collapsed": false,
    "ExecuteTime": {
     "end_time": "2025-03-14T15:15:50.251328200Z",
     "start_time": "2025-03-14T15:15:50.221085100Z"
    }
   }
  },
  {
   "cell_type": "code",
   "execution_count": 4,
   "outputs": [
    {
     "data": {
      "text/plain": "            interest     balance\n2000-01-01      4.75  100.012715\n2000-01-02      4.75  100.025431\n2000-01-03      4.75  100.038149\n2000-01-04      4.75  100.050869\n2000-01-05      4.75  100.063591\n...              ...         ...\n2025-03-08      2.75  203.132979\n2025-03-09      2.75  203.148077\n2025-03-10      2.75  203.163177\n2025-03-11      2.75  203.178278\n2025-03-12      2.75  203.193380\n\n[9203 rows x 2 columns]",
      "text/html": "<div>\n<style scoped>\n    .dataframe tbody tr th:only-of-type {\n        vertical-align: middle;\n    }\n\n    .dataframe tbody tr th {\n        vertical-align: top;\n    }\n\n    .dataframe thead th {\n        text-align: right;\n    }\n</style>\n<table border=\"1\" class=\"dataframe\">\n  <thead>\n    <tr style=\"text-align: right;\">\n      <th></th>\n      <th>interest</th>\n      <th>balance</th>\n    </tr>\n  </thead>\n  <tbody>\n    <tr>\n      <th>2000-01-01</th>\n      <td>4.75</td>\n      <td>100.012715</td>\n    </tr>\n    <tr>\n      <th>2000-01-02</th>\n      <td>4.75</td>\n      <td>100.025431</td>\n    </tr>\n    <tr>\n      <th>2000-01-03</th>\n      <td>4.75</td>\n      <td>100.038149</td>\n    </tr>\n    <tr>\n      <th>2000-01-04</th>\n      <td>4.75</td>\n      <td>100.050869</td>\n    </tr>\n    <tr>\n      <th>2000-01-05</th>\n      <td>4.75</td>\n      <td>100.063591</td>\n    </tr>\n    <tr>\n      <th>...</th>\n      <td>...</td>\n      <td>...</td>\n    </tr>\n    <tr>\n      <th>2025-03-08</th>\n      <td>2.75</td>\n      <td>203.132979</td>\n    </tr>\n    <tr>\n      <th>2025-03-09</th>\n      <td>2.75</td>\n      <td>203.148077</td>\n    </tr>\n    <tr>\n      <th>2025-03-10</th>\n      <td>2.75</td>\n      <td>203.163177</td>\n    </tr>\n    <tr>\n      <th>2025-03-11</th>\n      <td>2.75</td>\n      <td>203.178278</td>\n    </tr>\n    <tr>\n      <th>2025-03-12</th>\n      <td>2.75</td>\n      <td>203.193380</td>\n    </tr>\n  </tbody>\n</table>\n<p>9203 rows × 2 columns</p>\n</div>"
     },
     "execution_count": 4,
     "metadata": {},
     "output_type": "execute_result"
    }
   ],
   "source": [
    "cum_log = (np.log(1 + df[\"interest\"] / 100) / 365).cumsum()\n",
    "df[\"balance\"] = 100 * np.exp(cum_log)\n",
    "df"
   ],
   "metadata": {
    "collapsed": false,
    "ExecuteTime": {
     "end_time": "2025-03-14T15:12:50.296602900Z",
     "start_time": "2025-03-14T15:12:50.270531400Z"
    }
   }
  },
  {
   "cell_type": "code",
   "execution_count": 7,
   "outputs": [
    {
     "data": {
      "text/plain": "           date  interest     balance\n0    2000-01-01      4.75  100.012715\n1    2000-01-02      4.75  100.025431\n2    2000-01-03      4.75  100.038149\n3    2000-01-04      4.75  100.050869\n4    2000-01-05      4.75  100.063591\n...         ...       ...         ...\n9198 2025-03-08      2.75  203.132979\n9199 2025-03-09      2.75  203.148077\n9200 2025-03-10      2.75  203.163177\n9201 2025-03-11      2.75  203.178278\n9202 2025-03-12      2.75  203.193380\n\n[9203 rows x 3 columns]",
      "text/html": "<div>\n<style scoped>\n    .dataframe tbody tr th:only-of-type {\n        vertical-align: middle;\n    }\n\n    .dataframe tbody tr th {\n        vertical-align: top;\n    }\n\n    .dataframe thead th {\n        text-align: right;\n    }\n</style>\n<table border=\"1\" class=\"dataframe\">\n  <thead>\n    <tr style=\"text-align: right;\">\n      <th></th>\n      <th>date</th>\n      <th>interest</th>\n      <th>balance</th>\n    </tr>\n  </thead>\n  <tbody>\n    <tr>\n      <th>0</th>\n      <td>2000-01-01</td>\n      <td>4.75</td>\n      <td>100.012715</td>\n    </tr>\n    <tr>\n      <th>1</th>\n      <td>2000-01-02</td>\n      <td>4.75</td>\n      <td>100.025431</td>\n    </tr>\n    <tr>\n      <th>2</th>\n      <td>2000-01-03</td>\n      <td>4.75</td>\n      <td>100.038149</td>\n    </tr>\n    <tr>\n      <th>3</th>\n      <td>2000-01-04</td>\n      <td>4.75</td>\n      <td>100.050869</td>\n    </tr>\n    <tr>\n      <th>4</th>\n      <td>2000-01-05</td>\n      <td>4.75</td>\n      <td>100.063591</td>\n    </tr>\n    <tr>\n      <th>...</th>\n      <td>...</td>\n      <td>...</td>\n      <td>...</td>\n    </tr>\n    <tr>\n      <th>9198</th>\n      <td>2025-03-08</td>\n      <td>2.75</td>\n      <td>203.132979</td>\n    </tr>\n    <tr>\n      <th>9199</th>\n      <td>2025-03-09</td>\n      <td>2.75</td>\n      <td>203.148077</td>\n    </tr>\n    <tr>\n      <th>9200</th>\n      <td>2025-03-10</td>\n      <td>2.75</td>\n      <td>203.163177</td>\n    </tr>\n    <tr>\n      <th>9201</th>\n      <td>2025-03-11</td>\n      <td>2.75</td>\n      <td>203.178278</td>\n    </tr>\n    <tr>\n      <th>9202</th>\n      <td>2025-03-12</td>\n      <td>2.75</td>\n      <td>203.193380</td>\n    </tr>\n  </tbody>\n</table>\n<p>9203 rows × 3 columns</p>\n</div>"
     },
     "execution_count": 7,
     "metadata": {},
     "output_type": "execute_result"
    }
   ],
   "source": [
    "df = df.reset_index().rename(columns={'index': 'date'})\n",
    "df"
   ],
   "metadata": {
    "collapsed": false,
    "ExecuteTime": {
     "end_time": "2025-03-13T14:25:43.353835800Z",
     "start_time": "2025-03-13T14:25:43.325839Z"
    }
   }
  },
  {
   "cell_type": "code",
   "execution_count": 8,
   "outputs": [],
   "source": [
    "df.to_csv('resources/ko_deposit.csv', index=False)"
   ],
   "metadata": {
    "collapsed": false,
    "ExecuteTime": {
     "end_time": "2025-03-13T14:25:50.697327900Z",
     "start_time": "2025-03-13T14:25:50.659909500Z"
    }
   }
  },
  {
   "cell_type": "code",
   "execution_count": null,
   "outputs": [],
   "source": [],
   "metadata": {
    "collapsed": false
   }
  }
 ],
 "metadata": {
  "kernelspec": {
   "display_name": "Python 3",
   "language": "python",
   "name": "python3"
  },
  "language_info": {
   "codemirror_mode": {
    "name": "ipython",
    "version": 2
   },
   "file_extension": ".py",
   "mimetype": "text/x-python",
   "name": "python",
   "nbconvert_exporter": "python",
   "pygments_lexer": "ipython2",
   "version": "2.7.6"
  }
 },
 "nbformat": 4,
 "nbformat_minor": 0
}
